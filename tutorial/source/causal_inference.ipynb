{
 "cells": [
  {
   "cell_type": "code",
   "execution_count": 1,
   "metadata": {},
   "outputs": [
    {
     "data": {
      "text/plain": [
       "<torch._C.Generator at 0x7f6301887fd0>"
      ]
     },
     "execution_count": 1,
     "metadata": {},
     "output_type": "execute_result"
    }
   ],
   "source": [
    "%matplotlib inline\n",
    "import torch\n",
    "import pyro\n",
    "import pyro.infer\n",
    "import pyro.distributions as dist\n",
    "import numpy as np\n",
    "import matplotlib.pyplot as plt\n",
    "try:\n",
    "    import seaborn as sns\n",
    "    sns.set()\n",
    "except ImportError:\n",
    "    pass\n",
    "\n",
    "from torch.autograd import Variable\n",
    "\n",
    "torch.manual_seed(101)"
   ]
  },
  {
   "cell_type": "markdown",
   "metadata": {},
   "source": [
    "# Introduction\n",
    "\n",
    "(This tutorial is largely adapted from the disease example in [Chapter 4 of ProbMods](http://probmods.org/chapters/04-patterns-of-inference.html))\n",
    "\n",
    "Consider the following generative model:"
   ]
  },
  {
   "cell_type": "code",
   "execution_count": 2,
   "metadata": {
    "collapsed": true
   },
   "outputs": [],
   "source": [
    "def disease():\n",
    "    # smoking: some patients smoke cigarettes,\n",
    "    # which increases their risk of lung disease\n",
    "    smokes = pyro.sample(\"smokes\", dist.bernoulli, Variable(torch.Tensor([0.2])))\n",
    "    \n",
    "    # first latent cause of symptoms: lung disease\n",
    "    # lung disease has a small probability of arising from exogenous variables\n",
    "    lung_disease_prior = pyro.sample(\"lung_disease_prior\", dist.bernoulli, Variable(torch.Tensor([0.001])))\n",
    "    lung_disease = (lung_disease_prior == 1.0).all()\n",
    "    if (smokes == 1.0).all():\n",
    "        # smoking dramatically increases the risk of lung disease.\n",
    "        # we capture this increase with a second risk factor\n",
    "        # that depends on smokes\n",
    "        lung_disease_smokes = pyro.sample(\"lung_disease_smokes\", dist.bernoulli, Variable(torch.Tensor([0.1])))\n",
    "        # finally, we combine risk factors to determine if the patient has lung disease\n",
    "        lung_disease = lung_disease or (lung_disease_smokes == 1.0).all()\n",
    "    \n",
    "    # second latent cause of symptoms: cold\n",
    "    # unlike lung disease, colds do not have any latent causes in our disease model\n",
    "    # and arise entirely at random\n",
    "    cold = pyro.sample(\"cold\", dist.bernoulli, Variable(torch.Tensor([0.02])))\n",
    "    \n",
    "    # observable symptoms:\n",
    "    # all symptoms may arise infrequently due to other external causes\n",
    "    # first symptom: coughing\n",
    "    # coughing is a potential symptom of both cold and lung disease\n",
    "    cough_prior = pyro.sample(\"cough_prior\", dist.bernoulli, Variable(torch.Tensor([0.01])))\n",
    "    cough = (cough_prior == 1.0).all()\n",
    "    if (cold == 1.0).all():\n",
    "        # having a cold greatly increases the probability of coughing\n",
    "        cough_cold = pyro.sample(\"cough_cold\", dist.bernoulli, Variable(torch.Tensor([0.5])))\n",
    "        cough = cough or (cough_cold == 1.0).all()\n",
    "    if lung_disease:\n",
    "        # having lung disease also greatly increases the probability of coughing\n",
    "        cough_lung = pyro.sample(\"cough_lung\", dist.bernoulli, Variable(torch.Tensor([0.5])))\n",
    "        cough = cough or (cough_lung == 1.0).all()\n",
    "        \n",
    "    # second symptom: fever\n",
    "    # fever is only a potential symptom of cold\n",
    "    fever_prior = pyro.sample(\"fever_prior\", dist.bernoulli, Variable(torch.Tensor([0.01])))\n",
    "    fever = (fever_prior == 1.0).all()\n",
    "    if (cold == 1.0).all():\n",
    "        # having a cold increases the probability of fever\n",
    "        fever_cold = pyro.sample(\"fever_cold\", dist.bernoulli, Variable(torch.Tensor([0.3])))\n",
    "        fever = fever or (fever_cold == 1.0).all()\n",
    "        \n",
    "    # third symptom: chest pain\n",
    "    # chest pain is only a potential symptom of lung disease\n",
    "    chest_pain_prior = pyro.sample(\"chest_pain_prior\", dist.bernoulli, Variable(torch.Tensor([0.01])))\n",
    "    chest_pain = (chest_pain_prior == 1.0).all()\n",
    "    if lung_disease:\n",
    "        # having lung disease increases the probability of chest pain,\n",
    "        # but it is still much less likely than coughing\n",
    "        chest_pain_lung = pyro.sample(\"chest_pain_lung\", dist.bernoulli, Variable(torch.Tensor([0.2])))\n",
    "        chest_pain = chest_pain or (chest_pain_lung == 1.0).all()\n",
    "\n",
    "    # here we add some meaningless sample statements\n",
    "    # that allow us to constrain the observable symptoms.\n",
    "    # Note that this is a generally useful technique\n",
    "    pd = lambda b: Variable(torch.Tensor([1])) if b else Variable(torch.Tensor([0]))\n",
    "    pyro.sample(\"lung_disease\", dist.bernoulli, pd(lung_disease))\n",
    "    pyro.sample(\"cough\", dist.bernoulli, pd(cough))\n",
    "    pyro.sample(\"fever\", dist.bernoulli, pd(fever))\n",
    "    pyro.sample(\"chest_pain\", dist.bernoulli, pd(chest_pain))\n",
    "    \n",
    "    # return the symptoms\n",
    "    return {\n",
    "        \"cough\": cough,\n",
    "        \"fever\": fever,\n",
    "        \"chest_pain\": chest_pain,\n",
    "    }"
   ]
  },
  {
   "cell_type": "markdown",
   "metadata": {},
   "source": [
    "# Observation and Intervention\n",
    "\n",
    "In addition to `pyro.condition`, which was introduced in the [inference tutorial](https://pyro.ai/examples/intro_part_ii.html), Pyro provides `pyro.do`, an implementation of Pearl's `do`-operator for direct intervention in probabilistic models.  `pyro.do` has the same interface as `pyro.condition`:"
   ]
  },
  {
   "cell_type": "code",
   "execution_count": 3,
   "metadata": {
    "collapsed": true
   },
   "outputs": [],
   "source": [
    "intervened_cold = pyro.do(disease, data={\"cold\": Variable(torch.ones(1))})\n",
    "intervened_no_cold = pyro.do(disease, data={\"cold\": Variable(torch.zeros(1))})"
   ]
  },
  {
   "cell_type": "markdown",
   "metadata": {},
   "source": [
    "Intervention in a Pyro model is equivalent to editing the model's code and replacing a particular `sample` statement with a hard-coded value.  For example, \n",
    "```python\n",
    "intervened_cold = pyro.do(disease, data={\"cold\": Variable(torch.ones(1))})\n",
    "```\n",
    "is equivalent to replacing the line in `disease`\n",
    "```python\n",
    "cold = pyro.sample(\"cold\", dist.bernoulli, Variable(torch.Tensor([0.02])))\n",
    "```\n",
    "with the line\n",
    "```python\n",
    "cold = Variable(torch.ones(1))\n",
    "```\n",
    "Similarly, `intervened_no_cold` is equivalent to replacing the above sample statement with\n",
    "```python\n",
    "cold = Variable(torch.zeros(1))\n",
    "```\n",
    "\n",
    "What if we gave patients a cold?"
   ]
  },
  {
   "cell_type": "code",
   "execution_count": 4,
   "metadata": {},
   "outputs": [
    {
     "data": {
      "text/plain": [
       "(0, 1)"
      ]
     },
     "execution_count": 4,
     "metadata": {},
     "output_type": "execute_result"
    },
    {
     "data": {
      "image/png": "[encoded data removed]",
      "text/plain": [
       "<matplotlib.figure.Figure at 0x7f62e87565c0>"
      ]
     },
     "metadata": {},
     "output_type": "display_data"
    }
   ],
   "source": [
    "marginal_intervened_cold = pyro.infer.Marginal(pyro.infer.Search(intervened_cold), sites=[\"cough\"])\n",
    "marginal_intervened_no_cold = pyro.infer.Marginal(pyro.infer.Search(intervened_no_cold), sites=[\"cough\"])\n",
    "\n",
    "p_cough_do_cold = torch.exp(marginal_intervened_cold.log_pdf({\"cough\": Variable(torch.ones(1))}))\n",
    "p_cough_do_no_cold = torch.exp(marginal_intervened_no_cold.log_pdf({\"cough\": Variable(torch.ones(1))}))\n",
    "\n",
    "plt.bar(np.arange(0, 2), (p_cough_do_cold.data[0], p_cough_do_no_cold.data[0]))\n",
    "plt.ylim(0, 1)"
   ]
  },
  {
   "cell_type": "markdown",
   "metadata": {},
   "source": [
    "Now suppose instead that we give all patients a cough medicine.  We can see that treating symptoms does not treat the underlying causes of coughing: the probability of having a cold is unaffected by the intervention."
   ]
  },
  {
   "cell_type": "code",
   "execution_count": 11,
   "metadata": {},
   "outputs": [
    {
     "data": {
      "text/plain": [
       "(0, 1)"
      ]
     },
     "execution_count": 11,
     "metadata": {},
     "output_type": "execute_result"
    },
    {
     "data": {
      "image/png": "[encoded data removed]",
      "text/plain": [
       "<matplotlib.figure.Figure at 0x7f68589e3da0>"
      ]
     },
     "metadata": {},
     "output_type": "display_data"
    }
   ],
   "source": [
    "# administering cough medicine\n",
    "intervened_no_cough = pyro.do(disease, data={\"cough\": Variable(torch.zeros(1))})\n",
    "\n",
    "# does treating the symptoms treat the underlying cause?\n",
    "marginal_cold = pyro.infer.Marginal(pyro.infer.Search(disease), sites=[\"cold\"])\n",
    "marginal_cold_do_no_cough = pyro.infer.Marginal(pyro.infer.Search(intervened_no_cough), sites=[\"cold\"])\n",
    "\n",
    "p_cold = torch.exp(marginal_cold.log_pdf({\"cold\": Variable(torch.ones(1))}))\n",
    "p_cold_do_no_cough = torch.exp(marginal_cold_do_no_cough.log_pdf({\"cold\": Variable(torch.ones(1))}))\n",
    "\n",
    "plt.bar(np.arange(0, 2), (p_cold.data[0], p_cold_do_no_cough.data[0]))\n",
    "plt.ylim(0, 1)"
   ]
  },
  {
   "cell_type": "markdown",
   "metadata": {
    "collapsed": true
   },
   "source": [
    "Finally, we can try combining intervention and conditioning.  Suppose we want to estimate whether smoking causes lung disease.  We can estimate the observational distribution `p(lung_disease | cough=True, fever=False)`.  To answer this question clearly, we could intervene and perform a randomized experiment: splitting people with these symptoms into smokers and non-smokers."
   ]
  },
  {
   "cell_type": "code",
   "execution_count": 5,
   "metadata": {
    "collapsed": true
   },
   "outputs": [],
   "source": [
    "symptoms = {\"cough\": Variable(torch.ones(1)), \"fever\": Variable(torch.zeros(1))}\n",
    "outcome = {\"lung_disease\": Variable(torch.ones(1))}\n",
    "\n",
    "# observational distribution\n",
    "obs_disease = pyro.condition(disease, data=symptoms)\n",
    "\n",
    "# interventional distributions\n",
    "nonsmoker_obs_disease = pyro.do(obs_disease, data={\"smokes\": Variable(torch.zeros(1))})\n",
    "smoker_obs_disease = pyro.do(obs_disease, data={\"smokes\": Variable(torch.ones(1))})"
   ]
  },
  {
   "cell_type": "code",
   "execution_count": 6,
   "metadata": {},
   "outputs": [
    {
     "data": {
      "text/plain": [
       "(0, 1)"
      ]
     },
     "execution_count": 6,
     "metadata": {},
     "output_type": "execute_result"
    },
    {
     "data": {
      "image/png": "[encoded data removed]",
      "text/plain": [
       "<matplotlib.figure.Figure at 0x7f6295b2cc18>"
      ]
     },
     "metadata": {},
     "output_type": "display_data"
    }
   ],
   "source": [
    "# marginals\n",
    "marginal1_obs = pyro.infer.Marginal(pyro.infer.Search(obs_disease), sites=[\"lung_disease\"])\n",
    "marginal2_obs = pyro.infer.Marginal(pyro.infer.Search(obs_disease), sites=[\"lung_disease\", \"cold\"])\n",
    "\n",
    "# probabilities\n",
    "p_lung_given_obs = torch.exp(marginal1_obs.log_pdf(outcome))\n",
    "p_cold_not_lung_given_obs = torch.exp(marginal2_obs.log_pdf({\n",
    "    \"lung_disease\": Variable(torch.zeros(1)),\n",
    "    \"cold\": Variable(torch.ones(1))\n",
    "}))\n",
    "\n",
    "plt.bar(np.arange(0, 2), (p_lung_given_obs.data[0], p_cold_not_lung_given_obs.data[0]))\n",
    "plt.ylim(0, 1)"
   ]
  },
  {
   "cell_type": "code",
   "execution_count": 7,
   "metadata": {},
   "outputs": [
    {
     "data": {
      "text/plain": [
       "(0, 1)"
      ]
     },
     "execution_count": 7,
     "metadata": {},
     "output_type": "execute_result"
    },
    {
     "data": {
      "image/png": "[encoded data removed]",
      "text/plain": [
       "<matplotlib.figure.Figure at 0x7f62837a19b0>"
      ]
     },
     "metadata": {},
     "output_type": "display_data"
    }
   ],
   "source": [
    "# marginals of intervention distributions\n",
    "marginal_nonsmoker_obs = pyro.infer.Marginal(\n",
    "    pyro.infer.Search(nonsmoker_obs_disease), sites=[\"lung_disease\"])\n",
    "marginal_smoker_obs = pyro.infer.Marginal(\n",
    "    pyro.infer.Search(smoker_obs_disease), sites=[\"lung_disease\"])\n",
    "\n",
    "# probabilities\n",
    "p_lung_given_obs_do_nonsmoker = torch.exp(marginal_nonsmoker_obs.log_pdf(outcome))\n",
    "p_lung_given_obs_do_smoker = torch.exp(marginal_smoker_obs.log_pdf(outcome))\n",
    "\n",
    "plt.bar(np.arange(0, 2), (p_lung_given_obs_do_nonsmoker.data[0], p_lung_given_obs_do_smoker.data[0]))\n",
    "plt.ylim(0, 1)"
   ]
  },
  {
   "cell_type": "code",
   "execution_count": null,
   "metadata": {
    "collapsed": true
   },
   "outputs": [],
   "source": []
  }
 ],
 "metadata": {
  "kernelspec": {
   "display_name": "Python 3",
   "language": "python",
   "name": "python3"
  },
  "language_info": {
   "codemirror_mode": {
    "name": "ipython",
    "version": 3
   },
   "file_extension": ".py",
   "mimetype": "text/x-python",
   "name": "python",
   "nbconvert_exporter": "python",
   "pygments_lexer": "ipython3",
   "version": "3.6.2"
  }
 },
 "nbformat": 4,
 "nbformat_minor": 2
}
