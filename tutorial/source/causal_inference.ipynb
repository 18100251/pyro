{
 "cells": [
  {
   "cell_type": "code",
   "execution_count": 1,
   "metadata": {
    "collapsed": true
   },
   "outputs": [],
   "source": [
    "%matplotlib inline\n",
    "import torch\n",
    "import pyro\n",
    "import pyro.infer\n",
    "import pyro.distributions as dist\n",
    "import numpy as np\n",
    "import matplotlib.pyplot as plt\n",
    "\n",
    "from torch.autograd import Variable"
   ]
  },
  {
   "cell_type": "markdown",
   "metadata": {},
   "source": [
    "# Introduction\n",
    "\n",
    "(This tutorial is largely adapted from the disease example in [Chapter 4 of ProbMods](http://probmods.org/chapters/04-patterns-of-inference.html))"
   ]
  },
  {
   "cell_type": "markdown",
   "metadata": {},
   "source": [
    "# Conditioning and intervention\n",
    "\n",
    "In addition to `pyro.condition`, there is `pyro.do`."
   ]
  },
  {
   "cell_type": "code",
   "execution_count": 2,
   "metadata": {
    "collapsed": true
   },
   "outputs": [],
   "source": [
    "def disease():\n",
    "    # risk from smoking\n",
    "    smokes = pyro.sample(\"smokes\", dist.bernoulli, Variable(torch.Tensor([0.2])))\n",
    "    \n",
    "    # lung disease\n",
    "    lung_disease_prior = pyro.sample(\"lung_disease_prior\", dist.bernoulli, Variable(torch.Tensor([0.001])))\n",
    "    lung_disease = (lung_disease_prior == 1.0).all()\n",
    "    if (smokes == 1.0).all():\n",
    "        lung_disease_smokes = pyro.sample(\"lung_disease_smokes\", dist.bernoulli, Variable(torch.Tensor([0.1])))\n",
    "        lung_disease = lung_disease or (lung_disease_smokes == 1.0).all()\n",
    "    \n",
    "    # confounding disease\n",
    "    cold = pyro.sample(\"cold\", dist.bernoulli, Variable(torch.Tensor([0.02])))\n",
    "    \n",
    "    # symptoms:\n",
    "    # coughing\n",
    "    cough_prior = pyro.sample(\"cough_prior\", dist.bernoulli, Variable(torch.Tensor([0.01])))\n",
    "    cough = (cough_prior == 1.0).all()\n",
    "    if (cold == 1.0).all():\n",
    "        cough_cold = pyro.sample(\"cough_cold\", dist.bernoulli, Variable(torch.Tensor([0.5])))\n",
    "        cough = cough or (cough_cold == 1.0).all()\n",
    "    if lung_disease:\n",
    "        cough_lung = pyro.sample(\"cough_lung\", dist.bernoulli, Variable(torch.Tensor([0.5])))\n",
    "        cough = cough or (cough_lung == 1.0).all()\n",
    "        \n",
    "    # fever\n",
    "    fever_prior = pyro.sample(\"fever_prior\", dist.bernoulli, Variable(torch.Tensor([0.01])))\n",
    "    fever = (fever_prior == 1.0).all()\n",
    "    if (cold == 1.0).all():\n",
    "        fever_cold = pyro.sample(\"fever_cold\", dist.bernoulli, Variable(torch.Tensor([0.3])))\n",
    "        fever = fever or (fever_cold == 1.0).all()\n",
    "        \n",
    "    # chest pain\n",
    "    chest_pain_prior = pyro.sample(\"chest_pain_prior\", dist.bernoulli, Variable(torch.Tensor([0.01])))\n",
    "    chest_pain = (chest_pain_prior == 1.0).all()\n",
    "    if lung_disease:\n",
    "        chest_pain_lung = pyro.sample(\"chest_pain_lung\", dist.bernoulli, Variable(torch.Tensor([0.2])))\n",
    "        chest_pain = chest_pain or (chest_pain_lung == 1.0).all()\n",
    "\n",
    "    # here we add some meaningless sample statements that allow us to constrain the observable symptoms\n",
    "    # warning: this will only work with pyro.infer.Search; other methods should use dist.bernoulli\n",
    "    pd = lambda b: Variable(torch.Tensor([1])) if b else Variable(torch.Tensor([0]))\n",
    "    pyro.sample(\"lung_disease\", dist.bernoulli, pd(lung_disease))\n",
    "    pyro.sample(\"cough\", dist.bernoulli, pd(cough))\n",
    "    pyro.sample(\"fever\", dist.bernoulli, pd(fever))\n",
    "    pyro.sample(\"chest_pain\", dist.bernoulli, pd(chest_pain))\n",
    "    \n",
    "    # return the symptoms\n",
    "    return {\n",
    "        \"cough\": cough,\n",
    "        \"fever\": fever,\n",
    "        \"chest_pain\": chest_pain,\n",
    "    }"
   ]
  },
  {
   "cell_type": "code",
   "execution_count": 3,
   "metadata": {},
   "outputs": [
    {
     "name": "stdout",
     "output_type": "stream",
     "text": [
      "{'lung_disease': Variable containing:\n",
      " 1\n",
      "[torch.FloatTensor of size 1]\n",
      "}\n",
      "{'cold': Variable containing:\n",
      " 0\n",
      "[torch.FloatTensor of size 1]\n",
      "}\n"
     ]
    }
   ],
   "source": [
    "conditioned_disease = pyro.condition(disease, data={\"cough\": Variable(torch.ones(1))})\n",
    "cough_posterior = pyro.infer.Search(conditioned_disease)\n",
    "\n",
    "lung_marginal = pyro.infer.Marginal(cough_posterior, sites=[\"lung_disease\"])\n",
    "print(lung_marginal())\n",
    "\n",
    "cold_marginal = pyro.infer.Marginal(cough_posterior, sites=[\"cold\"])\n",
    "print(cold_marginal())"
   ]
  },
  {
   "cell_type": "code",
   "execution_count": 5,
   "metadata": {},
   "outputs": [
    {
     "name": "stdout",
     "output_type": "stream",
     "text": [
      "Variable containing:\n",
      " 0.6619\n",
      "[torch.FloatTensor of size 1]\n",
      "\n",
      "Variable containing:\n",
      " 0.6619\n",
      " 0.3381\n",
      "[torch.FloatTensor of size 2]\n",
      " [{'cold': Variable containing:\n",
      " 0\n",
      "[torch.FloatTensor of size 1]\n",
      "}, {'cold': Variable containing:\n",
      " 1\n",
      "[torch.FloatTensor of size 1]\n",
      "}]\n"
     ]
    }
   ],
   "source": [
    "print(torch.exp(cold_marginal.log_pdf({\"cold\": Variable(torch.zeros(1))})))\n",
    "dd, vvs = cold_marginal._dist_and_values()\n",
    "print(dd.ps, vvs)"
   ]
  },
  {
   "cell_type": "code",
   "execution_count": 11,
   "metadata": {},
   "outputs": [
    {
     "name": "stdout",
     "output_type": "stream",
     "text": [
      "Variable containing:\n",
      " 0.5102\n",
      "[torch.FloatTensor of size 1]\n",
      " Variable containing:\n",
      "1.00000e-02 *\n",
      "  2.0386\n",
      "[torch.FloatTensor of size 1]\n",
      "\n"
     ]
    }
   ],
   "source": [
    "intervened_cold = pyro.do(disease, data={\"cold\": Variable(torch.ones(1))})\n",
    "intervened_no_cold = pyro.do(disease, data={\"cold\": Variable(torch.zeros(1))})\n",
    "\n",
    "marginal_intervened_cold = pyro.infer.Marginal(pyro.infer.Search(intervened_cold), sites=[\"cough\"])\n",
    "marginal_intervened_no_cold = pyro.infer.Marginal(pyro.infer.Search(intervened_no_cold), sites=[\"cough\"])\n",
    "\n",
    "p_cough_do_cold = torch.exp(marginal_intervened_cold.log_pdf({\"cough\": Variable(torch.ones(1))}))\n",
    "p_cough_do_no_cold = torch.exp(marginal_intervened_no_cold.log_pdf({\"cough\": Variable(torch.ones(1))}))\n",
    "\n",
    "print(p_cough_do_cold, p_cough_do_no_cold)"
   ]
  },
  {
   "cell_type": "code",
   "execution_count": 16,
   "metadata": {},
   "outputs": [
    {
     "name": "stdout",
     "output_type": "stream",
     "text": [
      "Variable containing:\n",
      "1.00000e-02 *\n",
      "  2.0000\n",
      "[torch.FloatTensor of size 1]\n",
      " Variable containing:\n",
      "1.00000e-02 *\n",
      "  2.0000\n",
      "[torch.FloatTensor of size 1]\n",
      "\n"
     ]
    }
   ],
   "source": [
    "intervened_cough = pyro.do(disease, data={\"cough\": Variable(torch.ones(1))})\n",
    "intervened_no_cough = pyro.do(disease, data={\"cough\": Variable(torch.zeros(1))})\n",
    "marginal_cold = pyro.infer.Marginal(pyro.infer.Search(disease), sites=[\"cold\"])\n",
    "marginal_cold_do_cough = pyro.infer.Marginal(pyro.infer.Search(intervened_cough), sites=[\"cold\"])\n",
    "marginal_cold_do_no_cough = pyro.infer.Marginal(pyro.infer.Search(intervened_no_cough), sites=[\"cold\"])\n",
    "\n",
    "p_cold = torch.exp(marginal_cold.log_pdf({\"cold\": Variable(torch.ones(1))}))\n",
    "p_cold_do_cough = torch.exp(marginal_cold_do_cough.log_pdf({\"cold\": Variable(torch.ones(1))}))\n",
    "p_cold_do_no_cough = torch.exp(marginal_cold_do_no_cough.log_pdf({\"cold\": Variable(torch.ones(1))}))\n",
    "\n",
    "print(p_cold, p_cold_do_cough, p_cold_do_no_cough)"
   ]
  },
  {
   "cell_type": "code",
   "execution_count": null,
   "metadata": {
    "collapsed": true
   },
   "outputs": [],
   "source": []
  }
 ],
 "metadata": {
  "kernelspec": {
   "display_name": "Python 3",
   "language": "python",
   "name": "python3"
  },
  "language_info": {
   "codemirror_mode": {
    "name": "ipython",
    "version": 3
   },
   "file_extension": ".py",
   "mimetype": "text/x-python",
   "name": "python",
   "nbconvert_exporter": "python",
   "pygments_lexer": "ipython3",
   "version": "3.6.2"
  }
 },
 "nbformat": 4,
 "nbformat_minor": 2
}
